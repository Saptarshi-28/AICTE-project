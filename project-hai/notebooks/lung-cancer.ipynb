{
 "cells": [
  {
   "cell_type": "code",
   "execution_count": 23,
   "id": "88ad4ab9-314c-4976-8e56-24d38cb3449c",
   "metadata": {},
   "outputs": [],
   "source": [
    "import pandas as pd\n",
    "import numpy as np\n",
    "import matplotlib.pyplot as plt\n",
    "from sklearn.linear_model import LogisticRegression\n",
    "from sklearn.model_selection import train_test_split\n",
    "from sklearn.metrics import mean_squared_error,r2_score,mean_absolute_error\n",
    "from sklearn import preprocessing\n",
    "from sklearn.metrics import accuracy_score\n",
    "from sklearn.preprocessing import StandardScaler\n",
    "from sklearn.neighbors import KNeighborsClassifier"
   ]
  },
  {
   "cell_type": "code",
   "execution_count": 3,
   "id": "6a5a948d-6a47-4481-bbb1-b8439a759e39",
   "metadata": {},
   "outputs": [],
   "source": [
    "data = pd.read_csv(\"C:/Users/pandi/Desktop/project-hai/datasets/survey lung cancer.csv\")"
   ]
  },
  {
   "cell_type": "code",
   "execution_count": 5,
   "id": "9d3417b9-aa4d-4908-956e-5a8cb182ff19",
   "metadata": {},
   "outputs": [
    {
     "name": "stdout",
     "output_type": "stream",
     "text": [
      "<class 'pandas.core.frame.DataFrame'>\n",
      "RangeIndex: 309 entries, 0 to 308\n",
      "Data columns (total 16 columns):\n",
      " #   Column                 Non-Null Count  Dtype \n",
      "---  ------                 --------------  ----- \n",
      " 0   GENDER                 309 non-null    object\n",
      " 1   AGE                    309 non-null    int64 \n",
      " 2   SMOKING                309 non-null    int64 \n",
      " 3   YELLOW_FINGERS         309 non-null    int64 \n",
      " 4   ANXIETY                309 non-null    int64 \n",
      " 5   PEER_PRESSURE          309 non-null    int64 \n",
      " 6   CHRONIC DISEASE        309 non-null    int64 \n",
      " 7   FATIGUE                309 non-null    int64 \n",
      " 8   ALLERGY                309 non-null    int64 \n",
      " 9   WHEEZING               309 non-null    int64 \n",
      " 10  ALCOHOL CONSUMING      309 non-null    int64 \n",
      " 11  COUGHING               309 non-null    int64 \n",
      " 12  SHORTNESS OF BREATH    309 non-null    int64 \n",
      " 13  SWALLOWING DIFFICULTY  309 non-null    int64 \n",
      " 14  CHEST PAIN             309 non-null    int64 \n",
      " 15  LUNG_CANCER            309 non-null    object\n",
      "dtypes: int64(14), object(2)\n",
      "memory usage: 38.8+ KB\n"
     ]
    }
   ],
   "source": [
    "data.info()"
   ]
  },
  {
   "cell_type": "code",
   "execution_count": 7,
   "id": "57e9ca81-2db7-4a51-a42f-8dd4bf3a680d",
   "metadata": {},
   "outputs": [
    {
     "data": {
      "text/plain": [
       "GENDER                   0\n",
       "AGE                      0\n",
       "SMOKING                  0\n",
       "YELLOW_FINGERS           0\n",
       "ANXIETY                  0\n",
       "PEER_PRESSURE            0\n",
       "CHRONIC DISEASE          0\n",
       "FATIGUE                  0\n",
       "ALLERGY                  0\n",
       "WHEEZING                 0\n",
       "ALCOHOL CONSUMING        0\n",
       "COUGHING                 0\n",
       "SHORTNESS OF BREATH      0\n",
       "SWALLOWING DIFFICULTY    0\n",
       "CHEST PAIN               0\n",
       "LUNG_CANCER              0\n",
       "dtype: int64"
      ]
     },
     "execution_count": 7,
     "metadata": {},
     "output_type": "execute_result"
    }
   ],
   "source": [
    "data.isnull().sum()"
   ]
  },
  {
   "cell_type": "code",
   "execution_count": 9,
   "id": "61291219-0ac6-41ff-b86e-0d46b47f4494",
   "metadata": {},
   "outputs": [
    {
     "data": {
      "text/plain": [
       "array([1, 0])"
      ]
     },
     "execution_count": 9,
     "metadata": {},
     "output_type": "execute_result"
    }
   ],
   "source": [
    "label_encoder = preprocessing.LabelEncoder()\n",
    "\n",
    "data['GENDER']= label_encoder.fit_transform(data['GENDER'])\n",
    "  \n",
    "data['GENDER'].unique()\n",
    "\n",
    "data['LUNG_CANCER']= label_encoder.fit_transform(data['LUNG_CANCER'])\n",
    "  \n",
    "data['LUNG_CANCER'].unique()"
   ]
  },
  {
   "cell_type": "code",
   "execution_count": 11,
   "id": "748f7346-e370-4755-a376-462b8a5d0f9c",
   "metadata": {},
   "outputs": [],
   "source": [
    "X = data.drop(columns='LUNG_CANCER', axis=1)\n",
    "Y = data['LUNG_CANCER']"
   ]
  },
  {
   "cell_type": "code",
   "execution_count": 19,
   "id": "5e59232f-657a-4ac7-ac50-38c3b09becee",
   "metadata": {},
   "outputs": [],
   "source": [
    "X_train, X_test, Y_train, Y_test = train_test_split(X, Y, test_size=0.2, stratify=Y, random_state=2)\n",
    "error=[]"
   ]
  },
  {
   "cell_type": "code",
   "execution_count": 25,
   "id": "1ba133ec-788e-4c94-b206-3f55bd9bd6ca",
   "metadata": {},
   "outputs": [],
   "source": [
    "scaler = StandardScaler()\n",
    "X_train_scaled = scaler.fit_transform(X_train)\n",
    "X_test_scaled = scaler.transform(X_test)\n",
    "\n",
    "for k in range(1,30):\n",
    "    knn_model=KNeighborsClassifier(n_neighbors=k)\n",
    "    knn_model.fit(X_train_scaled,Y_train)\n",
    "    preds=knn_model.predict(X_test_scaled)\n",
    "    error.append(1-accuracy_score(Y_test,preds))"
   ]
  },
  {
   "cell_type": "code",
   "execution_count": 27,
   "id": "e05c005a-f785-4ae5-8879-3d8895b2c1dd",
   "metadata": {},
   "outputs": [
    {
     "data": {
      "text/plain": [
       "[0.06451612903225812,\n",
       " 0.08064516129032262,\n",
       " 0.048387096774193505,\n",
       " 0.08064516129032262,\n",
       " 0.09677419354838712,\n",
       " 0.11290322580645162,\n",
       " 0.09677419354838712,\n",
       " 0.08064516129032262,\n",
       " 0.09677419354838712,\n",
       " 0.09677419354838712,\n",
       " 0.12903225806451613,\n",
       " 0.11290322580645162,\n",
       " 0.14516129032258063,\n",
       " 0.11290322580645162,\n",
       " 0.16129032258064513,\n",
       " 0.12903225806451613,\n",
       " 0.16129032258064513,\n",
       " 0.12903225806451613,\n",
       " 0.14516129032258063,\n",
       " 0.14516129032258063,\n",
       " 0.16129032258064513,\n",
       " 0.14516129032258063,\n",
       " 0.14516129032258063,\n",
       " 0.14516129032258063,\n",
       " 0.14516129032258063,\n",
       " 0.14516129032258063,\n",
       " 0.14516129032258063,\n",
       " 0.12903225806451613,\n",
       " 0.12903225806451613]"
      ]
     },
     "execution_count": 27,
     "metadata": {},
     "output_type": "execute_result"
    }
   ],
   "source": [
    "error"
   ]
  },
  {
   "cell_type": "code",
   "execution_count": 29,
   "id": "e9795bda-b5ec-43ee-ade4-3dd452582e13",
   "metadata": {},
   "outputs": [],
   "source": [
    "model4=KNeighborsClassifier(n_neighbors=3)"
   ]
  },
  {
   "cell_type": "code",
   "execution_count": 39,
   "id": "83c659dc-d24d-49f3-a5bf-b196361bf1e9",
   "metadata": {},
   "outputs": [],
   "source": [
    "model4.fit(X_train_scaled,Y_train)\n",
    "preds=model4.predict(X_test_scaled)\n",
    "preds=model4.predict(X_test_scaled)\n",
    "1-accuracy_score(Y_test,preds)"
   ]
  },
  {
   "cell_type": "code",
   "execution_count": 41,
   "id": "e7f6935f-6cb9-4b6f-9947-79a5f16dbff9",
   "metadata": {},
   "outputs": [
    {
     "name": "stdout",
     "output_type": "stream",
     "text": [
      "[1]\n",
      "The Person has Lung Cancer\n"
     ]
    }
   ],
   "source": [
    "input_data = (0,61,1,1,1,1,2,2,1,1,1,1,2,1,1)\n",
    "\n",
    "# change the input data to a numpy array\n",
    "input_data_as_numpy_array= np.asarray(input_data)\n",
    "\n",
    "# reshape the numpy array as we are predicting for only on instance\n",
    "input_data_reshaped = input_data_as_numpy_array.reshape(1,-1)\n",
    "\n",
    "prediction = model4.predict(input_data_reshaped)\n",
    "print(prediction)\n",
    "\n",
    "if (prediction[0]== 0):\n",
    "  print('The Person does not have a Lung Cancer')\n",
    "else:\n",
    "  print('The Person has Lung Cancer')"
   ]
  },
  {
   "cell_type": "code",
   "execution_count": null,
   "id": "7fba11f6-1e2c-4eeb-a25a-194efac89fee",
   "metadata": {},
   "outputs": [],
   "source": [
    "import pickle\n",
    "filename = 'lung_cancer_model.sav'\n",
    "pickle.dump(model4, open('C:/Users/pandi/Desktop/project-hai/models/lung_cancer_model.sav', 'wb'))"
   ]
  }
 ],
 "metadata": {
  "kernelspec": {
   "display_name": "Python [conda env:base] *",
   "language": "python",
   "name": "conda-base-py"
  },
  "language_info": {
   "codemirror_mode": {
    "name": "ipython",
    "version": 3
   },
   "file_extension": ".py",
   "mimetype": "text/x-python",
   "name": "python",
   "nbconvert_exporter": "python",
   "pygments_lexer": "ipython3",
   "version": "3.12.7"
  }
 },
 "nbformat": 4,
 "nbformat_minor": 5
}
